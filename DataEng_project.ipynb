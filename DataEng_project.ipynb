{
  "nbformat": 4,
  "nbformat_minor": 0,
  "metadata": {
    "colab": {
      "name": "DataEng_project.ipynb",
      "provenance": []
    },
    "kernelspec": {
      "name": "python3",
      "display_name": "Python 3"
    },
    "language_info": {
      "name": "python"
    }
  },
  "cells": [
    {
      "cell_type": "markdown",
      "metadata": {
        "id": "TQSmY0rNDQly"
      },
      "source": [
        "# **Web Scraping**"
      ]
    },
    {
      "cell_type": "code",
      "metadata": {
        "id": "iTwj4_x480o-"
      },
      "source": [
        "from bs4 import BeautifulSoup\n",
        "import requests\n",
        "import pandas as pd\n",
        "import glob\n",
        "from datetime import datetime\n",
        "import os"
      ],
      "execution_count": 1,
      "outputs": []
    },
    {
      "cell_type": "code",
      "metadata": {
        "id": "kyJVSp9B9lIW"
      },
      "source": [
        "#Write your code here\n",
        "url = \"https://en.wikipedia.org/wiki/List_of_largest_banks\"\n",
        "response = requests.get(url)\n",
        "data = response.content"
      ],
      "execution_count": 2,
      "outputs": []
    },
    {
      "cell_type": "code",
      "metadata": {
        "colab": {
          "base_uri": "https://localhost:8080/"
        },
        "id": "wh83ppyt9nve",
        "outputId": "068fa3c4-279b-4560-e7be-a03378e5e0f2"
      },
      "source": [
        "data[101:124]"
      ],
      "execution_count": 3,
      "outputs": [
        {
          "output_type": "execute_result",
          "data": {
            "text/plain": [
              "b'List of largest banks -'"
            ]
          },
          "metadata": {},
          "execution_count": 3
        }
      ]
    },
    {
      "cell_type": "code",
      "metadata": {
        "id": "10bjfGcm_Orj"
      },
      "source": [
        "#Replace the dots below\n",
        "soup = BeautifulSoup(data, 'html5lib')\n",
        "tables = soup.find_all('table')\n",
        "table = tables[3]"
      ],
      "execution_count": 4,
      "outputs": []
    },
    {
      "cell_type": "code",
      "metadata": {
        "id": "QUgokF0rCBRG"
      },
      "source": [
        "data = pd.DataFrame(columns=[\"Name\", \"Market Cap (US$ Billion)\"])"
      ],
      "execution_count": 5,
      "outputs": []
    },
    {
      "cell_type": "code",
      "metadata": {
        "id": "rAZB21lqCZRn"
      },
      "source": [
        "for row in table.tbody.find_all(\"tr\"):\n",
        "# for row in soup.find_all('tbody')[3].find_all('tr'):\n",
        "    col = row.find_all('td')\n",
        "    #Write your code here\n",
        "    if (col != []):\n",
        "        name = col[1].text\n",
        "        marketcap = col[2].text\n",
        "        data = data.append({\"Name\":name, \"Market Cap (US$ Billion)\":marketcap}, ignore_index=True)"
      ],
      "execution_count": 6,
      "outputs": []
    },
    {
      "cell_type": "code",
      "metadata": {
        "colab": {
          "base_uri": "https://localhost:8080/",
          "height": 206
        },
        "id": "ZldOInyECetQ",
        "outputId": "8a53900d-d639-4006-c7a4-e96dbf510f4f"
      },
      "source": [
        "data.head()"
      ],
      "execution_count": 7,
      "outputs": [
        {
          "output_type": "execute_result",
          "data": {
            "text/html": [
              "<div>\n",
              "<style scoped>\n",
              "    .dataframe tbody tr th:only-of-type {\n",
              "        vertical-align: middle;\n",
              "    }\n",
              "\n",
              "    .dataframe tbody tr th {\n",
              "        vertical-align: top;\n",
              "    }\n",
              "\n",
              "    .dataframe thead th {\n",
              "        text-align: right;\n",
              "    }\n",
              "</style>\n",
              "<table border=\"1\" class=\"dataframe\">\n",
              "  <thead>\n",
              "    <tr style=\"text-align: right;\">\n",
              "      <th></th>\n",
              "      <th>Name</th>\n",
              "      <th>Market Cap (US$ Billion)</th>\n",
              "    </tr>\n",
              "  </thead>\n",
              "  <tbody>\n",
              "    <tr>\n",
              "      <th>0</th>\n",
              "      <td>JPMorgan Chase\\n</td>\n",
              "      <td>487.220\\n</td>\n",
              "    </tr>\n",
              "    <tr>\n",
              "      <th>1</th>\n",
              "      <td>Industrial and Commercial Bank of China\\n</td>\n",
              "      <td>345.214\\n</td>\n",
              "    </tr>\n",
              "    <tr>\n",
              "      <th>2</th>\n",
              "      <td>Bank of America\\n</td>\n",
              "      <td>325.331\\n</td>\n",
              "    </tr>\n",
              "    <tr>\n",
              "      <th>3</th>\n",
              "      <td>Wells Fargo\\n</td>\n",
              "      <td>308.013\\n</td>\n",
              "    </tr>\n",
              "    <tr>\n",
              "      <th>4</th>\n",
              "      <td>China Construction Bank\\n</td>\n",
              "      <td>257.399\\n</td>\n",
              "    </tr>\n",
              "  </tbody>\n",
              "</table>\n",
              "</div>"
            ],
            "text/plain": [
              "                                         Name Market Cap (US$ Billion)\n",
              "0                            JPMorgan Chase\\n                487.220\\n\n",
              "1   Industrial and Commercial Bank of China\\n                345.214\\n\n",
              "2                           Bank of America\\n                325.331\\n\n",
              "3                               Wells Fargo\\n                308.013\\n\n",
              "4                   China Construction Bank\\n                257.399\\n"
            ]
          },
          "metadata": {},
          "execution_count": 7
        }
      ]
    },
    {
      "cell_type": "markdown",
      "metadata": {
        "id": "nKulkvOWF73n"
      },
      "source": [
        "# **Extracting Data using API**"
      ]
    },
    {
      "cell_type": "code",
      "metadata": {
        "id": "YsW1m8Y3LEp9"
      },
      "source": [
        "# Write your code here\n",
        "url = \"http://api.exchangeratesapi.io/v1/latest?base=EUR&access_key=d33174c661af19300acd4bb82cdff25d\""
      ],
      "execution_count": 8,
      "outputs": []
    },
    {
      "cell_type": "code",
      "metadata": {
        "id": "EUlchDn3Lbu7"
      },
      "source": [
        "# Turn the data into a dataframe\n",
        "rate_data = pd.DataFrame(columns=[\"rates\"])\n",
        "r=requests.get(url)\n",
        "data = r.json()\n",
        "data = data['rates']\n",
        "keys = []\n",
        "for key in data:\n",
        "    rate_data = rate_data.append({\"rates\":data[key]}, ignore_index=True)\n",
        "    keys.append(key)"
      ],
      "execution_count": 9,
      "outputs": []
    },
    {
      "cell_type": "code",
      "metadata": {
        "colab": {
          "base_uri": "https://localhost:8080/"
        },
        "id": "p0wFO5cNBJbQ",
        "outputId": "2dad4f09-a0f6-4544-96ff-48bbf17d888e"
      },
      "source": [
        "data"
      ],
      "execution_count": 10,
      "outputs": [
        {
          "output_type": "execute_result",
          "data": {
            "text/plain": [
              "{'AED': 4.345104,\n",
              " 'AFN': 100.191354,\n",
              " 'ALL': 121.779587,\n",
              " 'AMD': 583.381057,\n",
              " 'ANG': 2.123829,\n",
              " 'AOA': 742.331415,\n",
              " 'ARS': 115.990843,\n",
              " 'AUD': 1.605528,\n",
              " 'AWG': 2.129849,\n",
              " 'AZN': 2.004474,\n",
              " 'BAM': 1.955873,\n",
              " 'BBD': 2.388972,\n",
              " 'BDT': 100.809162,\n",
              " 'BGN': 1.957415,\n",
              " 'BHD': 0.445889,\n",
              " 'BIF': 2349.23189,\n",
              " 'BMD': 1.182921,\n",
              " 'BND': 1.590021,\n",
              " 'BOB': 8.17001,\n",
              " 'BRL': 6.281432,\n",
              " 'BSD': 1.183226,\n",
              " 'BTC': 2.5318407e-05,\n",
              " 'BTN': 87.013676,\n",
              " 'BWP': 12.931384,\n",
              " 'BYN': 2.98019,\n",
              " 'BYR': 23185.251341,\n",
              " 'BZD': 2.385052,\n",
              " 'CAD': 1.496791,\n",
              " 'CDF': 2362.293106,\n",
              " 'CHF': 1.084626,\n",
              " 'CLF': 0.034033,\n",
              " 'CLP': 939.061449,\n",
              " 'CNY': 7.636229,\n",
              " 'COP': 4532.539199,\n",
              " 'CRC': 738.636227,\n",
              " 'CUC': 1.182921,\n",
              " 'CUP': 31.347406,\n",
              " 'CVE': 110.264626,\n",
              " 'CZK': 25.437293,\n",
              " 'DJF': 210.228449,\n",
              " 'DKK': 7.435956,\n",
              " 'DOP': 67.241909,\n",
              " 'DZD': 161.052971,\n",
              " 'EGP': 18.587937,\n",
              " 'ERN': 17.749508,\n",
              " 'ETB': 54.599876,\n",
              " 'EUR': 1,\n",
              " 'FJD': 2.453793,\n",
              " 'FKP': 0.854782,\n",
              " 'GBP': 0.854903,\n",
              " 'GEL': 3.690661,\n",
              " 'GGP': 0.854782,\n",
              " 'GHS': 7.063576,\n",
              " 'GIP': 0.854782,\n",
              " 'GMD': 60.541822,\n",
              " 'GNF': 11575.06073,\n",
              " 'GTQ': 9.159824,\n",
              " 'GYD': 247.323342,\n",
              " 'HKD': 9.19999,\n",
              " 'HNL': 28.456385,\n",
              " 'HRK': 7.482802,\n",
              " 'HTG': 117.874593,\n",
              " 'HUF': 350.640284,\n",
              " 'IDR': 16865.673407,\n",
              " 'ILS': 3.791522,\n",
              " 'IMP': 0.854782,\n",
              " 'INR': 86.982841,\n",
              " 'IQD': 1727.483346,\n",
              " 'IRR': 49907.436754,\n",
              " 'ISK': 150.798925,\n",
              " 'JEP': 0.854782,\n",
              " 'JMD': 178.048406,\n",
              " 'JOD': 0.838757,\n",
              " 'JPY': 129.737445,\n",
              " 'KES': 130.038811,\n",
              " 'KGS': 100.33411,\n",
              " 'KHR': 4826.265225,\n",
              " 'KMF': 495.644195,\n",
              " 'KPW': 1064.629087,\n",
              " 'KRW': 1383.69814,\n",
              " 'KWD': 0.355705,\n",
              " 'KYD': 0.986013,\n",
              " 'KZT': 504.576819,\n",
              " 'LAK': 11339.853254,\n",
              " 'LBP': 1789.024178,\n",
              " 'LKR': 236.345394,\n",
              " 'LRD': 203.284847,\n",
              " 'LSL': 17.649493,\n",
              " 'LTL': 3.492858,\n",
              " 'LVL': 0.715537,\n",
              " 'LYD': 5.345182,\n",
              " 'MAD': 10.577964,\n",
              " 'MDL': 20.70573,\n",
              " 'MGA': 4641.083489,\n",
              " 'MKD': 61.646059,\n",
              " 'MMK': 1947.557121,\n",
              " 'MNT': 3372.390793,\n",
              " 'MOP': 9.478028,\n",
              " 'MRO': 422.302589,\n",
              " 'MUR': 50.157533,\n",
              " 'MVR': 18.276004,\n",
              " 'MWK': 961.358865,\n",
              " 'MXN': 23.59246,\n",
              " 'MYR': 4.906792,\n",
              " 'MZN': 75.440793,\n",
              " 'NAD': 17.649062,\n",
              " 'NGN': 486.658296,\n",
              " 'NIO': 41.548913,\n",
              " 'NOK': 10.263412,\n",
              " 'NPR': 139.221882,\n",
              " 'NZD': 1.66379,\n",
              " 'OMR': 0.455447,\n",
              " 'PAB': 1.183226,\n",
              " 'PEN': 4.847666,\n",
              " 'PGK': 4.153947,\n",
              " 'PHP': 59.094595,\n",
              " 'PKR': 198.778586,\n",
              " 'PLN': 4.544077,\n",
              " 'PYG': 8181.310568,\n",
              " 'QAR': 4.307013,\n",
              " 'RON': 4.944134,\n",
              " 'RSD': 117.579601,\n",
              " 'RUB': 86.339274,\n",
              " 'RWF': 1194.826248,\n",
              " 'SAR': 4.436847,\n",
              " 'SBD': 9.532054,\n",
              " 'SCR': 15.317193,\n",
              " 'SDG': 524.624017,\n",
              " 'SEK': 10.180017,\n",
              " 'SGD': 1.58848,\n",
              " 'SHP': 1.629352,\n",
              " 'SLL': 12213.658972,\n",
              " 'SOS': 692.009314,\n",
              " 'SRD': 25.289674,\n",
              " 'STD': 24484.076119,\n",
              " 'SVC': 10.353227,\n",
              " 'SYP': 1487.610644,\n",
              " 'SZL': 16.739568,\n",
              " 'THB': 38.710329,\n",
              " 'TJS': 13.411455,\n",
              " 'TMT': 4.152053,\n",
              " 'TND': 3.299754,\n",
              " 'TOP': 2.657432,\n",
              " 'TRY': 9.982559,\n",
              " 'TTD': 8.038909,\n",
              " 'TWD': 32.734027,\n",
              " 'TZS': 2743.193708,\n",
              " 'UAH': 31.605893,\n",
              " 'UGX': 4176.721138,\n",
              " 'USD': 1.182921,\n",
              " 'UYU': 50.410681,\n",
              " 'UZS': 12639.807118,\n",
              " 'VEF': 252944257614.2528,\n",
              " 'VND': 26930.379185,\n",
              " 'VUV': 131.170472,\n",
              " 'WST': 3.029181,\n",
              " 'XAF': 655.885467,\n",
              " 'XAG': 0.049203,\n",
              " 'XAU': 0.000659,\n",
              " 'XCD': 3.196903,\n",
              " 'XDR': 0.831209,\n",
              " 'XOF': 655.96032,\n",
              " 'XPF': 120.516143,\n",
              " 'YER': 296.73574,\n",
              " 'ZAR': 16.815341,\n",
              " 'ZMK': 10647.706577,\n",
              " 'ZMW': 19.155897,\n",
              " 'ZWL': 380.900075}"
            ]
          },
          "metadata": {},
          "execution_count": 10
        }
      ]
    },
    {
      "cell_type": "markdown",
      "metadata": {
        "id": "yOu_bMET2EY9"
      },
      "source": [
        "# **ETL**"
      ]
    },
    {
      "cell_type": "markdown",
      "metadata": {
        "id": "PCl8_PSA5P24"
      },
      "source": [
        "As the exchange rate fluctuates, we will download the same dataset to make marking simpler. This will be in the same format as the dataset you used in the last section"
      ]
    },
    {
      "cell_type": "code",
      "metadata": {
        "colab": {
          "base_uri": "https://localhost:8080/"
        },
        "id": "aIzDjW7R2Dcf",
        "outputId": "850c2311-1994-4da3-dfe2-9473faccd3b9"
      },
      "source": [
        "!wget https://cf-courses-data.s3.us.cloud-object-storage.appdomain.cloud/IBMDeveloperSkillsNetwork-PY0221EN-SkillsNetwork/labs/module%206/Lab%20-%20Extract%20Transform%20Load/data/bank_market_cap_1.json\n",
        "!wget https://cf-courses-data.s3.us.cloud-object-storage.appdomain.cloud/IBMDeveloperSkillsNetwork-PY0221EN-SkillsNetwork/labs/module%206/Lab%20-%20Extract%20Transform%20Load/data/bank_market_cap_2.json\n",
        "!wget https://cf-courses-data.s3.us.cloud-object-storage.appdomain.cloud/IBMDeveloperSkillsNetwork-PY0221EN-SkillsNetwork/labs/module%206/Final%20Assignment/exchange_rates.csv"
      ],
      "execution_count": 11,
      "outputs": [
        {
          "output_type": "stream",
          "name": "stdout",
          "text": [
            "--2021-09-09 19:28:09--  https://cf-courses-data.s3.us.cloud-object-storage.appdomain.cloud/IBMDeveloperSkillsNetwork-PY0221EN-SkillsNetwork/labs/module%206/Lab%20-%20Extract%20Transform%20Load/data/bank_market_cap_1.json\n",
            "Resolving cf-courses-data.s3.us.cloud-object-storage.appdomain.cloud (cf-courses-data.s3.us.cloud-object-storage.appdomain.cloud)... 198.23.119.245\n",
            "Connecting to cf-courses-data.s3.us.cloud-object-storage.appdomain.cloud (cf-courses-data.s3.us.cloud-object-storage.appdomain.cloud)|198.23.119.245|:443... connected.\n",
            "HTTP request sent, awaiting response... 200 OK\n",
            "Length: 2815 (2.7K) [application/json]\n",
            "Saving to: ‘bank_market_cap_1.json’\n",
            "\n",
            "bank_market_cap_1.j 100%[===================>]   2.75K  --.-KB/s    in 0s      \n",
            "\n",
            "2021-09-09 19:28:09 (302 MB/s) - ‘bank_market_cap_1.json’ saved [2815/2815]\n",
            "\n",
            "--2021-09-09 19:28:09--  https://cf-courses-data.s3.us.cloud-object-storage.appdomain.cloud/IBMDeveloperSkillsNetwork-PY0221EN-SkillsNetwork/labs/module%206/Lab%20-%20Extract%20Transform%20Load/data/bank_market_cap_2.json\n",
            "Resolving cf-courses-data.s3.us.cloud-object-storage.appdomain.cloud (cf-courses-data.s3.us.cloud-object-storage.appdomain.cloud)... 198.23.119.245\n",
            "Connecting to cf-courses-data.s3.us.cloud-object-storage.appdomain.cloud (cf-courses-data.s3.us.cloud-object-storage.appdomain.cloud)|198.23.119.245|:443... connected.\n",
            "HTTP request sent, awaiting response... 200 OK\n",
            "Length: 1429 (1.4K) [application/json]\n",
            "Saving to: ‘bank_market_cap_2.json’\n",
            "\n",
            "bank_market_cap_2.j 100%[===================>]   1.40K  --.-KB/s    in 0s      \n",
            "\n",
            "2021-09-09 19:28:09 (189 MB/s) - ‘bank_market_cap_2.json’ saved [1429/1429]\n",
            "\n",
            "--2021-09-09 19:28:09--  https://cf-courses-data.s3.us.cloud-object-storage.appdomain.cloud/IBMDeveloperSkillsNetwork-PY0221EN-SkillsNetwork/labs/module%206/Final%20Assignment/exchange_rates.csv\n",
            "Resolving cf-courses-data.s3.us.cloud-object-storage.appdomain.cloud (cf-courses-data.s3.us.cloud-object-storage.appdomain.cloud)... 198.23.119.245\n",
            "Connecting to cf-courses-data.s3.us.cloud-object-storage.appdomain.cloud (cf-courses-data.s3.us.cloud-object-storage.appdomain.cloud)|198.23.119.245|:443... connected.\n",
            "HTTP request sent, awaiting response... 200 OK\n",
            "Length: 590 [text/csv]\n",
            "Saving to: ‘exchange_rates.csv’\n",
            "\n",
            "exchange_rates.csv  100%[===================>]     590  --.-KB/s    in 0s      \n",
            "\n",
            "2021-09-09 19:28:09 (171 MB/s) - ‘exchange_rates.csv’ saved [590/590]\n",
            "\n"
          ]
        }
      ]
    },
    {
      "cell_type": "markdown",
      "metadata": {
        "id": "byIegV1074AT"
      },
      "source": [
        "# **Extract**"
      ]
    },
    {
      "cell_type": "markdown",
      "metadata": {
        "id": "tqkXMYb27596"
      },
      "source": [
        "**JSON Extract Function**  \n",
        "This function will extract JSON files."
      ]
    },
    {
      "cell_type": "code",
      "metadata": {
        "id": "gBLcG3b423_U"
      },
      "source": [
        "def extract_from_json(file_to_process):\n",
        "    dataframe = pd.read_json(file_to_process)\n",
        "    return dataframe"
      ],
      "execution_count": 12,
      "outputs": []
    },
    {
      "cell_type": "markdown",
      "metadata": {
        "id": "OrGcecfW8GU9"
      },
      "source": [
        "\n",
        "**Extract Function**\n",
        "\n",
        "Define the extract function that finds JSON file bank_market_cap_1.json and calls the function created above to extract data from them. Store the data in a pandas dataframe. Use the following list for the columns.\n"
      ]
    },
    {
      "cell_type": "code",
      "metadata": {
        "id": "cvMxLktD26VM"
      },
      "source": [
        "columns=['Name','Market Cap (US$ Billion)']"
      ],
      "execution_count": 13,
      "outputs": []
    },
    {
      "cell_type": "code",
      "metadata": {
        "id": "Ub9uePhW2-35"
      },
      "source": [
        "def extract():\n",
        "    # Write your code here\n",
        "    files = glob.glob(\"*.json\")\n",
        "    file = files[0]\n",
        "    df = extract_from_json(file)\n",
        "    return df"
      ],
      "execution_count": 14,
      "outputs": []
    },
    {
      "cell_type": "code",
      "metadata": {
        "id": "fZoqE70_3gh4"
      },
      "source": [
        "# Write your code here\n",
        "def extract_csv():\n",
        "    df = pd.read_csv('exchange_rates.csv', index_col=0)\n",
        "    exchange_rate = df.loc['GBP'].values\n",
        "    \n",
        "    return exchange_rate[0]"
      ],
      "execution_count": 15,
      "outputs": []
    },
    {
      "cell_type": "markdown",
      "metadata": {
        "id": "03VjMr688x1J"
      },
      "source": [
        "\n",
        "# **Transform**\n",
        "\n",
        "Using exchange_rate and the exchange_rates.csv file find the exchange rate of USD to GBP. Write a transform function that  \n",
        "1.   Changes the Market Cap (US\\$ Billion) column from USD to GBP  \n",
        "2.   Rounds the Market Cap (US\\$ Billion) column to 3 decimal places  \n",
        "3.   Rename Market Cap (US\\$ Billion) to Market Cap (GBP$ Billion)"
      ]
    },
    {
      "cell_type": "code",
      "metadata": {
        "id": "0XPeJnOR3irt"
      },
      "source": [
        "def transform(df):\n",
        "    exchange_rate = extract_csv()\n",
        "    df.columns = ['Name', 'Market Cap (GBP$ Billion)']\n",
        "    df['Market Cap (GBP$ Billion)'] = round(df['Market Cap (GBP$ Billion)'] * exchange_rate, 3)\n",
        "    return df"
      ],
      "execution_count": 16,
      "outputs": []
    },
    {
      "cell_type": "markdown",
      "metadata": {
        "id": "g7k_-nm3-3Fd"
      },
      "source": [
        "# **Load**\n",
        "Create a function that takes a dataframe and load it to a csv named bank_market_cap_gbp.csv. Make sure to set index to False."
      ]
    },
    {
      "cell_type": "code",
      "metadata": {
        "id": "vGw93tnf4ck0"
      },
      "source": [
        "def load(df):\n",
        "    df.to_csv('bank_market_cap_gbp.csv', index=False)"
      ],
      "execution_count": 17,
      "outputs": []
    },
    {
      "cell_type": "markdown",
      "metadata": {
        "id": "Jt6Pm9fi_tsO"
      },
      "source": [
        "# **Logging Function**\n",
        "Write the logging function log to log your data:"
      ]
    },
    {
      "cell_type": "code",
      "metadata": {
        "id": "U6rkeess4e9R"
      },
      "source": [
        "def log(message):\n",
        "    timestamp_format = '%Y-%h-%d-%H:%M:%S' # Year-Monthname-Day-Hour-Minute-Second\n",
        "    now = datetime.now() # get current timestamp\n",
        "    timestamp = now.strftime(timestamp_format)\n",
        "    with open(\"logfile.txt\",\"a\") as f:\n",
        "        f.write(timestamp + ',' + message + '\\n')"
      ],
      "execution_count": 18,
      "outputs": []
    },
    {
      "cell_type": "markdown",
      "metadata": {
        "id": "JJrxquFX_3gn"
      },
      "source": [
        "# **Running the ETL Process**\n",
        "Log the process accordingly using the following \"ETL Job Started\" and \"Extract phase Started\""
      ]
    },
    {
      "cell_type": "code",
      "metadata": {
        "id": "yQ0mQAMe4hVd"
      },
      "source": [
        "log(\"ETL Job Started\")"
      ],
      "execution_count": 19,
      "outputs": []
    },
    {
      "cell_type": "markdown",
      "metadata": {
        "id": "xDfg5x6MAcgJ"
      },
      "source": [
        "**Extract**  \n",
        "Question 2 Use the function extract, and print the first 5 rows, take a screen shot:"
      ]
    },
    {
      "cell_type": "code",
      "metadata": {
        "colab": {
          "base_uri": "https://localhost:8080/",
          "height": 206
        },
        "id": "Lkd1Kosy4jsH",
        "outputId": "1fb27495-b2c1-4295-d945-895134a7e80c"
      },
      "source": [
        "# Call the function here\n",
        "log(\"Extract phase Started\")\n",
        "extracted_data = extract()\n",
        "\n",
        "# Print the rows here\n",
        "extracted_data.head()"
      ],
      "execution_count": 20,
      "outputs": [
        {
          "output_type": "execute_result",
          "data": {
            "text/html": [
              "<div>\n",
              "<style scoped>\n",
              "    .dataframe tbody tr th:only-of-type {\n",
              "        vertical-align: middle;\n",
              "    }\n",
              "\n",
              "    .dataframe tbody tr th {\n",
              "        vertical-align: top;\n",
              "    }\n",
              "\n",
              "    .dataframe thead th {\n",
              "        text-align: right;\n",
              "    }\n",
              "</style>\n",
              "<table border=\"1\" class=\"dataframe\">\n",
              "  <thead>\n",
              "    <tr style=\"text-align: right;\">\n",
              "      <th></th>\n",
              "      <th>Name</th>\n",
              "      <th>Market Cap (US$ Billion)</th>\n",
              "    </tr>\n",
              "  </thead>\n",
              "  <tbody>\n",
              "    <tr>\n",
              "      <th>0</th>\n",
              "      <td>JPMorgan Chase</td>\n",
              "      <td>390.934</td>\n",
              "    </tr>\n",
              "    <tr>\n",
              "      <th>1</th>\n",
              "      <td>Industrial and Commercial Bank of China</td>\n",
              "      <td>345.214</td>\n",
              "    </tr>\n",
              "    <tr>\n",
              "      <th>2</th>\n",
              "      <td>Bank of America</td>\n",
              "      <td>325.331</td>\n",
              "    </tr>\n",
              "    <tr>\n",
              "      <th>3</th>\n",
              "      <td>Wells Fargo</td>\n",
              "      <td>308.013</td>\n",
              "    </tr>\n",
              "    <tr>\n",
              "      <th>4</th>\n",
              "      <td>China Construction Bank</td>\n",
              "      <td>257.399</td>\n",
              "    </tr>\n",
              "  </tbody>\n",
              "</table>\n",
              "</div>"
            ],
            "text/plain": [
              "                                      Name  Market Cap (US$ Billion)\n",
              "0                           JPMorgan Chase                   390.934\n",
              "1  Industrial and Commercial Bank of China                   345.214\n",
              "2                          Bank of America                   325.331\n",
              "3                              Wells Fargo                   308.013\n",
              "4                  China Construction Bank                   257.399"
            ]
          },
          "metadata": {},
          "execution_count": 20
        }
      ]
    },
    {
      "cell_type": "markdown",
      "metadata": {
        "id": "1oNX5yO-Ajme"
      },
      "source": [
        "Log the data as \"Extract phase Ended\""
      ]
    },
    {
      "cell_type": "code",
      "metadata": {
        "id": "MNj6OdFr4nme"
      },
      "source": [
        "log(\"Extract phase Ended\")"
      ],
      "execution_count": 21,
      "outputs": []
    },
    {
      "cell_type": "markdown",
      "metadata": {
        "id": "gDQtvChyAmpc"
      },
      "source": [
        "**Transform**  \n",
        "Log the following \"Transform phase Started\""
      ]
    },
    {
      "cell_type": "code",
      "metadata": {
        "id": "v4B1LT1L4rL-"
      },
      "source": [
        "log(\"Transform phase Started\")"
      ],
      "execution_count": 22,
      "outputs": []
    },
    {
      "cell_type": "markdown",
      "metadata": {
        "id": "RODBZrf8Aqdb"
      },
      "source": [
        "Question 3 Use the function transform and print the first 5 rows of the output, take a screen shot:"
      ]
    },
    {
      "cell_type": "code",
      "metadata": {
        "colab": {
          "base_uri": "https://localhost:8080/",
          "height": 206
        },
        "id": "EdBpXb9N4tec",
        "outputId": "4d68d9eb-1741-44aa-91f3-c283f7376edc"
      },
      "source": [
        "# Call the function here\n",
        "transformed_data = transform(extracted_data)\n",
        "# Print the first 5 rows here\n",
        "transformed_data.head()"
      ],
      "execution_count": 23,
      "outputs": [
        {
          "output_type": "execute_result",
          "data": {
            "text/html": [
              "<div>\n",
              "<style scoped>\n",
              "    .dataframe tbody tr th:only-of-type {\n",
              "        vertical-align: middle;\n",
              "    }\n",
              "\n",
              "    .dataframe tbody tr th {\n",
              "        vertical-align: top;\n",
              "    }\n",
              "\n",
              "    .dataframe thead th {\n",
              "        text-align: right;\n",
              "    }\n",
              "</style>\n",
              "<table border=\"1\" class=\"dataframe\">\n",
              "  <thead>\n",
              "    <tr style=\"text-align: right;\">\n",
              "      <th></th>\n",
              "      <th>Name</th>\n",
              "      <th>Market Cap (GBP$ Billion)</th>\n",
              "    </tr>\n",
              "  </thead>\n",
              "  <tbody>\n",
              "    <tr>\n",
              "      <th>0</th>\n",
              "      <td>JPMorgan Chase</td>\n",
              "      <td>286.319</td>\n",
              "    </tr>\n",
              "    <tr>\n",
              "      <th>1</th>\n",
              "      <td>Industrial and Commercial Bank of China</td>\n",
              "      <td>252.834</td>\n",
              "    </tr>\n",
              "    <tr>\n",
              "      <th>2</th>\n",
              "      <td>Bank of America</td>\n",
              "      <td>238.272</td>\n",
              "    </tr>\n",
              "    <tr>\n",
              "      <th>3</th>\n",
              "      <td>Wells Fargo</td>\n",
              "      <td>225.588</td>\n",
              "    </tr>\n",
              "    <tr>\n",
              "      <th>4</th>\n",
              "      <td>China Construction Bank</td>\n",
              "      <td>188.519</td>\n",
              "    </tr>\n",
              "  </tbody>\n",
              "</table>\n",
              "</div>"
            ],
            "text/plain": [
              "                                      Name  Market Cap (GBP$ Billion)\n",
              "0                           JPMorgan Chase                    286.319\n",
              "1  Industrial and Commercial Bank of China                    252.834\n",
              "2                          Bank of America                    238.272\n",
              "3                              Wells Fargo                    225.588\n",
              "4                  China Construction Bank                    188.519"
            ]
          },
          "metadata": {},
          "execution_count": 23
        }
      ]
    },
    {
      "cell_type": "markdown",
      "metadata": {
        "id": "E9c9UKuiAuD1"
      },
      "source": [
        "Log your data \"Transform phase Ended\""
      ]
    },
    {
      "cell_type": "code",
      "metadata": {
        "id": "bb7OLnFB4wB8"
      },
      "source": [
        "log(\"Transform phase Ended\")"
      ],
      "execution_count": 24,
      "outputs": []
    },
    {
      "cell_type": "markdown",
      "metadata": {
        "id": "bBuv5pkJAwUw"
      },
      "source": [
        "# **Load**  \n",
        "Log the following \"Load phase Started\"."
      ]
    },
    {
      "cell_type": "code",
      "metadata": {
        "id": "IXL2HZTQ4yNC"
      },
      "source": [
        "log(\"Load phase Started\")"
      ],
      "execution_count": 25,
      "outputs": []
    },
    {
      "cell_type": "markdown",
      "metadata": {
        "id": "4tyrHlTjA0j3"
      },
      "source": [
        "Call the load function"
      ]
    },
    {
      "cell_type": "code",
      "metadata": {
        "id": "oreyBSkV40EN"
      },
      "source": [
        "load(transformed_data)"
      ],
      "execution_count": 26,
      "outputs": []
    },
    {
      "cell_type": "markdown",
      "metadata": {
        "id": "Gg53kPG4A3bm"
      },
      "source": [
        "Log the following \"Load phase Ended\"."
      ]
    },
    {
      "cell_type": "code",
      "metadata": {
        "id": "l9tdyCdt42Hu"
      },
      "source": [
        "log(\"Load phase Ended\")"
      ],
      "execution_count": 27,
      "outputs": []
    }
  ]
}